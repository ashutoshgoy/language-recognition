{
 "cells": [
  {
   "cell_type": "code",
   "execution_count": null,
   "metadata": {},
   "outputs": [],
   "source": [
    "import speech_recognition as sr\n",
    "r = sr.Recognizer()\n",
    "\n",
    "import glob\n",
    "\n",
    "import fasttext\n",
    "from pycountry import languages\n",
    "def audioToString(path):\n",
    "    audioFile = sr.AudioFile(path)\n",
    "    with audioFile as source:\n",
    "        audioData = r.record(source)\n",
    "    return r.recognize_google(audioData)"
   ]
  },
  {
   "cell_type": "code",
   "execution_count": null,
   "metadata": {},
   "outputs": [],
   "source": [
    "def finalPrediction(path):\n",
    "    sentences = audioToString(path)\n",
    "    predictions = model.predict(sentences)\n",
    "    lang_name = languages.get(alpha_2=predictions[0][0][9:]).name\n",
    "    if lang_name != 'English':\n",
    "        lang_name = 'Hindi'\n",
    "    return lang_name\n",
    "\n",
    "finalPrediction('C:\\\\Users\\\\ashutosh\\\\Documents\\\\DecibellCache\\\\New Test\\\\harvard.wav')\n",
    "\n",
    "\n",
    "\n",
    "\n",
    "#For multiple Files :\n",
    "files = glob.glob('C:\\\\Users\\\\ashutosh\\\\Documents\\\\DecibellCache\\\\New Test\\\\*.wav')\n",
    "for file in files:\n",
    "    print(file.split('\\\\')[-1],'  -->\\t',finalPrediction(file))"
   ]
  }
 ],
 "metadata": {
  "kernelspec": {
   "display_name": "Python 3",
   "language": "python",
   "name": "python3"
  },
  "language_info": {
   "codemirror_mode": {
    "name": "ipython",
    "version": 3
   },
   "file_extension": ".py",
   "mimetype": "text/x-python",
   "name": "python",
   "nbconvert_exporter": "python",
   "pygments_lexer": "ipython3",
   "version": "3.7.4"
  }
 },
 "nbformat": 4,
 "nbformat_minor": 2
}
